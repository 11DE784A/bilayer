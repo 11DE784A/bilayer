{
 "cells": [
  {
   "cell_type": "markdown",
   "metadata": {},
   "source": [
    "## Quantum Heat Engine Based on Strained Monolayer Graphene\n",
    "Trying to reproduce the results of the engine proposed in Pena and Munoz (2018).\n",
    "\n",
    "The primary reference is:<br>\n",
    "FJ Pena, E Munoz. 2018. _Magneto-strain-driven quantum engine based on a graphene flake_. Physical Review E. [__91__, 052152](https://journals.aps.org/pre/abstract/10.1103/PhysRevE.91.052152). [arXiv:1505.04208](https://arxiv.org/abs/1505.04208)."
   ]
  },
  {
   "cell_type": "code",
   "execution_count": 1,
   "metadata": {},
   "outputs": [
    {
     "data": {
      "text/plain": [
       "(30.0 K, 100.0 K)"
      ]
     },
     "execution_count": 1,
     "metadata": {},
     "output_type": "execute_result"
    }
   ],
   "source": [
    "using Printf\n",
    "using Unitful, UnitfulRecipes\n",
    "using Plots\n",
    "using Roots\n",
    "using LinearAlgebra\n",
    "using LaTeXStrings\n",
    "\n",
    "# upscaled plot\n",
    "upscale = 2.4\n",
    "fntsm = Plots.font(pointsize=round(5.5*upscale))\n",
    "fntlg = Plots.font(pointsize=round(6.0*upscale))\n",
    "default(titlefont=fntlg, guidefont=fntlg, tickfont=fntsm, legendfont=fntsm, \n",
    "        legendtitlefont=fntlg)\n",
    "default(size=(400*upscale,300*upscale))\n",
    "default(linewidth=upscale)\n",
    "\n",
    "# units\n",
    "const eV, T, K, ° =  u\"eV\", u\"T\", u\"K\", u\"°\"\n",
    "\n",
    "# universal constants\n",
    "const e = 1.602e-19u\"C\" \n",
    "const h = 4.136e-15u\"eV*s\"\n",
    "const ħ = h/2π\n",
    "const k_B = 8.617e-5u\"eV/K\"\n",
    "const μ_B = 5.788e-5u\"eV/T\"\n",
    "const m_e = 9.109e-31u\"kg\"\n",
    "\n",
    "# graphene constants\n",
    "const a = 2.46e-10u\"m\"               # lattice constant\n",
    "λ(j) = ([3.16, 0.381]u\"eV\")[j+1]     # λ(0), λ(1) parametrize in-plane, dimer hoppings\n",
    "v(j) = (√3a*λ(j)) / 2ħ               # v(0), v(1) fermi velocities\n",
    "const m = λ(1) / (2v(0)^2)           # effective mass of quasiparticles\n",
    "const γ = 0.9μ_B                     # Zeeman coupling\n",
    "const γ̄  = 1.7μ_B                    # pseudo-Zeeman coupling\n",
    "const A = (1e3a)^2                   # area of sample\n",
    "\n",
    "l(B) = sqrt(ħ/(e*abs(B)))            # Landau radius\n",
    "β(T) = (k_B*T)^-1                    # thermodynamic β\n",
    "\n",
    "Ω(ξ, B, B_S) = v(0) * sqrt(2*e*abs(B + ξ*B_S)/ħ)\n",
    "Δ(ξ, B, B_S) = (γ̄*B_S) / (ħ*Ω(ξ, B, B_S))\n",
    "N(ξ, B, B_S) = floor((abs(B + ξ*B_S) * A) / (h/e))\n",
    "\n",
    "function E(T, B)\n",
    "    # From Equation B6\n",
    "    return (-γ*B*tanh(β(T)*γ*B) \n",
    "            + (sum([N(ξ, B, B_S) * (ξ*γ̄*B_S*exp(-ξ*β(T)*γ̄*B_S) \n",
    "                                    + (ħ*Ω(ξ, B, B_S)*sqrt(1 + Δ(ξ, B, B_S)^2) \n",
    "                                       * exp(-β(T)*ħ*Ω(ξ, B, B_S)*sqrt(1 + Δ(ξ, B, B_S)^2)))) \n",
    "                    for ξ in [-1, 1]]) \n",
    "               / sum([N(ξ, B, B_S) * (exp(-ξ*β(T)*γ̄*B_S) \n",
    "                                      + exp(-β(T)*ħ*Ω(ξ, B, B_S)*sqrt(1 + Δ(ξ, B, B_S)^2))) \n",
    "                      for ξ in [-1, 1]])))\n",
    "end\n",
    "\n",
    "function S(T, B)\n",
    "    # From Equation B7\n",
    "    return (β(T)*E(T, B) \n",
    "            + log(2*cosh(β(T)*γ*B)) \n",
    "            + log(sum([N(ξ, B, B_S) * (exp(-ξ*β(T)*γ̄*B_S) \n",
    "                                       + exp(-β(T)*ħ*Ω(ξ, B, B_S)*sqrt(1 + Δ(ξ, B, B_S)^2)))\n",
    "                      for ξ in [-1, 1]])))\n",
    "end\n",
    "\n",
    "function otto(r)\n",
    "    B_2 = r^2 * B_1\n",
    "\n",
    "    # Intermediate temperatures determined numerically. Equation 36.\n",
    "    T_2 = find_zero(T -> S(T_C, B_1) - S(T, B_2), T_C)\n",
    "    T_4 = find_zero(T -> S(T_H, B_2) - S(T, B_1), T_H)\n",
    "\n",
    "    Q_H = E(T_H, B_2) - E(T_2, B_2)   # Equation 33\n",
    "    Q_C = E(T_C, B_1) - E(T_4, B_1)   # Equation 34\n",
    "    W = Q_C + Q_H                     # Equations 31 and 32\n",
    "    η = 1 - abs(Q_C/Q_H)              # Equation 35\n",
    "\n",
    "    @printf(\"r_B: %.3f. T_2: %.4f K. T_4: %.4f K. W: %4f meV. η: %4f.\\n\", \n",
    "            r, ustrip(K, T_2), ustrip(K, T_4), ustrip(u\"meV\", W), η)\n",
    "end\n",
    "\n",
    "B_1, B_S = 4.0T, 20.0T\n",
    "T_C, T_H = 30.0K, 100.0K"
   ]
  },
  {
   "cell_type": "code",
   "execution_count": 2,
   "metadata": {},
   "outputs": [
    {
     "name": "stdout",
     "output_type": "stream",
     "text": [
      "r_B: 1.000. T_2: 30.0000 K. T_4: 100.0000 K. W: 0.000000 meV. η: 0.000000.\n",
      "r_B: 1.100. T_2: 30.6171 K. T_4: 96.9626 K. W: 0.016942 meV. η: 0.017621.\n",
      "r_B: 1.200. T_2: 31.0788 K. T_4: 97.1572 K. W: 0.022550 meV. η: 0.023295.\n",
      "r_B: 1.300. T_2: 31.5223 K. T_4: 97.6093 K. W: 0.026558 meV. η: 0.027261.\n",
      "r_B: 1.400. T_2: 31.8953 K. T_4: 98.3576 K. W: 0.028031 meV. η: 0.028626.\n",
      "r_B: 1.500. T_2: 32.1688 K. T_4: 99.4949 K. W: 0.026098 meV. η: 0.026561.\n",
      "r_B: 1.600. T_2: 32.3054 K. T_4: 101.1517 K. W: 0.019593 meV. η: 0.019921.\n",
      "r_B: 1.700. T_2: 32.2551 K. T_4: 103.5217 K. W: 0.006882 meV. η: 0.007014.\n",
      "r_B: 1.800. T_2: 31.9058 K. T_4: 107.1855 K. W: -0.016395 meV. η: -0.016852.\n",
      "r_B: 1.900. T_2: 31.2072 K. T_4: 112.2365 K. W: -0.050990 meV. η: -0.053263.\n",
      "r_B: 2.000. T_2: 29.8421 K. T_4: 120.5931 K. W: -0.109287 meV. η: -0.117878.\n",
      "r_B: 2.100. T_2: 27.3560 K. T_4: 135.8596 K. W: -0.207454 meV. η: -0.238060.\n",
      "r_B: 2.200. T_2: 21.7546 K. T_4: 176.2115 K. W: -0.413146 meV. η: -0.553785.\n",
      "r_B: 2.300. T_2: 22.6819 K. T_4: 396.9789 K. W: -1.678220 meV. η: -1.805101.\n",
      "r_B: 2.400. T_2: 24.8185 K. T_4: 536.3185 K. W: -4.494193 meV. η: -3.567640.\n",
      "r_B: 2.500. T_2: 24.9204 K. T_4: 659.2814 K. W: -8.189708 meV. η: -5.332389.\n"
     ]
    }
   ],
   "source": [
    "r_B = 1.0:0.1:2.5\n",
    "otto.(r_B);"
   ]
  }
 ],
 "metadata": {
  "kernelspec": {
   "display_name": "Julia 1.5.2",
   "language": "julia",
   "name": "julia-1.5"
  },
  "language_info": {
   "file_extension": ".jl",
   "mimetype": "application/julia",
   "name": "julia",
   "version": "1.5.3"
  }
 },
 "nbformat": 4,
 "nbformat_minor": 4
}
